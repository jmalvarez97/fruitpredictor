{
 "cells": [
  {
   "cell_type": "markdown",
   "id": "3c5cde14-89cf-4550-9bb1-c4d6ee762491",
   "metadata": {},
   "source": [
    "# Creacion del PCA\n",
    "\n",
    "En este notebook a partir de las imagenes se busca hacer una reduccion de dimensiones antes de enviar a la red neuronal"
   ]
  },
  {
   "cell_type": "code",
   "execution_count": 1,
   "id": "d3f6071b-5873-4ef2-8760-696d3ec742a6",
   "metadata": {},
   "outputs": [],
   "source": [
    "import pickle\n",
    "import numpy as np\n",
    "from sklearn.decomposition import PCA"
   ]
  },
  {
   "cell_type": "code",
   "execution_count": 2,
   "id": "8393377b-5a04-44b0-a32d-6d23497e339e",
   "metadata": {},
   "outputs": [],
   "source": [
    "with open('images64x64', 'rb') as f:\n",
    "    images = pickle.load(f)\n",
    "with open('labels64x64', 'rb') as f:\n",
    "    labels = pickle.load(f)"
   ]
  },
  {
   "cell_type": "code",
   "execution_count": 3,
   "id": "f8e7a4c3-998b-4e85-8388-aac70869ad04",
   "metadata": {},
   "outputs": [],
   "source": [
    "images = np.array([im.todense() for im in images]).reshape((160000, 64**2))"
   ]
  },
  {
   "cell_type": "code",
   "execution_count": 4,
   "id": "2f77b153-1091-4257-9d18-23749d8266d9",
   "metadata": {},
   "outputs": [
    {
     "data": {
      "text/plain": [
       "(160000, 160000)"
      ]
     },
     "execution_count": 4,
     "metadata": {},
     "output_type": "execute_result"
    }
   ],
   "source": [
    "len(images), len(labels)"
   ]
  },
  {
   "cell_type": "code",
   "execution_count": 5,
   "id": "25505272-befc-4be1-bb61-e8131f18b6c9",
   "metadata": {},
   "outputs": [],
   "source": [
    "x_train = images[:140000]\n",
    "y_train = labels[:140000]\n",
    "x_test  = images[140000:]\n",
    "y_test  = labels[140000:]  "
   ]
  },
  {
   "cell_type": "code",
   "execution_count": 6,
   "id": "76416636-b354-4bf6-8aad-3e8a032c2209",
   "metadata": {},
   "outputs": [
    {
     "data": {
      "text/plain": [
       "(140000, 140000, 20000, 20000)"
      ]
     },
     "execution_count": 6,
     "metadata": {},
     "output_type": "execute_result"
    }
   ],
   "source": [
    "len(x_train), len(y_train), len(x_test), len(y_test)"
   ]
  },
  {
   "cell_type": "markdown",
   "id": "557b071f-26ae-4e5e-a8f2-5de19aaf1c09",
   "metadata": {},
   "source": [
    "## Entreno el PCA con las dos datasets de imagenes"
   ]
  },
  {
   "cell_type": "code",
   "execution_count": 7,
   "id": "bc68573f-7866-473f-8fb7-209314154797",
   "metadata": {},
   "outputs": [],
   "source": [
    "compresser = PCA(n_components = 200)"
   ]
  },
  {
   "cell_type": "code",
   "execution_count": 8,
   "id": "78831b52-e157-4db1-b0b1-c6148ab5b9d9",
   "metadata": {},
   "outputs": [],
   "source": [
    "x_train_svd = compresser.fit_transform(x_train)\n",
    "x_test_svd = compresser.transform(x_test)"
   ]
  },
  {
   "cell_type": "code",
   "execution_count": 9,
   "id": "547b5847-90ed-4dee-81b5-f92f6a99d56a",
   "metadata": {},
   "outputs": [],
   "source": [
    "with open('train', 'wb') as f:\n",
    "    pickle.dump(x_train_svd,f)\n",
    "with open('test', 'wb') as f:\n",
    "    pickle.dump(x_test_svd,f)\n",
    "with open('compresser', 'wb') as f:\n",
    "    pickle.dump(compresser, f)"
   ]
  }
 ],
 "metadata": {
  "kernelspec": {
   "display_name": "default:Python",
   "language": "python",
   "name": "conda-env-default-py"
  },
  "language_info": {
   "codemirror_mode": {
    "name": "ipython",
    "version": 3
   },
   "file_extension": ".py",
   "mimetype": "text/x-python",
   "name": "python",
   "nbconvert_exporter": "python",
   "pygments_lexer": "ipython3",
   "version": "3.9.13"
  }
 },
 "nbformat": 4,
 "nbformat_minor": 5
}
