{
 "cells": [
  {
   "cell_type": "markdown",
   "metadata": {
    "id": "piTW5lJ5LP04"
   },
   "source": [
    "# Obtencion de la data\n",
    "\n",
    "Se eligieron 8 frutas, de las cuales se agarraron 20000 dibujos de cada uno para entrenar la red"
   ]
  },
  {
   "cell_type": "code",
   "execution_count": 1,
   "metadata": {
    "colab": {
     "base_uri": "https://localhost:8080/"
    },
    "id": "64A5m1_UKKue",
    "outputId": "f79e3e99-e470-4eef-e32c-e4e9d2959304"
   },
   "outputs": [],
   "source": [
    "import pandas as pd\n",
    "from tqdm import tqdm\n",
    "import numpy as np\n",
    "import cv2\n",
    "import pickle\n",
    "import matplotlib.pyplot as plt\n",
    "from skimage.draw import line_aa\n",
    "from scipy.sparse import csr_matrix"
   ]
  },
  {
   "cell_type": "markdown",
   "metadata": {
    "id": "rPoFyJqLKcf7"
   },
   "source": [
    "Funcion del repo para convertir los binarios a un dataframe"
   ]
  },
  {
   "cell_type": "code",
   "execution_count": 3,
   "metadata": {
    "id": "IK_ZcpZ7KW7D"
   },
   "outputs": [],
   "source": [
    "import struct\n",
    "from struct import unpack\n",
    "\n",
    "\n",
    "def unpack_drawing(file_handle):\n",
    "    key_id, = unpack('Q', file_handle.read(8))\n",
    "    country_code, = unpack('2s', file_handle.read(2))\n",
    "    recognized, = unpack('b', file_handle.read(1))\n",
    "    timestamp, = unpack('I', file_handle.read(4))\n",
    "    n_strokes, = unpack('H', file_handle.read(2))\n",
    "    image = []\n",
    "    for i in range(n_strokes):\n",
    "        n_points, = unpack('H', file_handle.read(2))\n",
    "        fmt = str(n_points) + 'B'\n",
    "        x = unpack(fmt, file_handle.read(n_points))\n",
    "        y = unpack(fmt, file_handle.read(n_points))\n",
    "        image.append((x, y))\n",
    "\n",
    "    return {\n",
    "        'recognized': recognized,\n",
    "        'image': image\n",
    "    }\n",
    "\n",
    "def unpack_drawings(filename):\n",
    "    with open(filename, 'rb') as f:\n",
    "        while True:\n",
    "            try:\n",
    "                yield unpack_drawing(f)\n",
    "            except struct.error:\n",
    "                break\n",
    "\n",
    "\n"
   ]
  },
  {
   "cell_type": "markdown",
   "metadata": {
    "id": "nlLUVcvKKoSa"
   },
   "source": [
    "\"Hiperparametros\" generales del modelo, se puede agrandar el sample hasta 1769461 dibujos, segun la cantidad de procesamiento que tengas, yo llego hasta 100000. A su vez elegi estos 12 alimentos pero podes quitarlos a gusto"
   ]
  },
  {
   "cell_type": "code",
   "execution_count": 4,
   "metadata": {
    "id": "VSMOEWo9KiHB"
   },
   "outputs": [],
   "source": [
    "subSample = 20000\n",
    "foods = [\"apple\",\"asparagus\",\"banana\",\"broccoli\",\"onion\",\"pineapple\",\"strawberry\",\"watermelon\"]"
   ]
  },
  {
   "cell_type": "code",
   "execution_count": 5,
   "metadata": {
    "id": "x1s-_kr9K-x4"
   },
   "outputs": [],
   "source": [
    "data = pd.DataFrame(columns=[\"image\", \"preds\"])"
   ]
  },
  {
   "cell_type": "markdown",
   "metadata": {
    "id": "y3aXqztgOydN"
   },
   "source": [
    "Aca los agrupo a todos en un dataframe, y me quedo solamente con los dibujos que la IA de google reconocio"
   ]
  },
  {
   "cell_type": "code",
   "execution_count": 7,
   "metadata": {},
   "outputs": [
    {
     "name": "stderr",
     "output_type": "stream",
     "text": [
      "  0%|          | 0/8 [00:00<?, ?it/s]"
     ]
    },
    {
     "name": "stdout",
     "output_type": "stream",
     "text": [
      "apple\n"
     ]
    },
    {
     "name": "stderr",
     "output_type": "stream",
     "text": [
      " 12%|█▎        | 1/8 [00:02<00:16,  2.36s/it]"
     ]
    },
    {
     "name": "stdout",
     "output_type": "stream",
     "text": [
      "asparagus\n"
     ]
    },
    {
     "name": "stderr",
     "output_type": "stream",
     "text": [
      " 25%|██▌       | 2/8 [00:05<00:15,  2.66s/it]"
     ]
    },
    {
     "name": "stdout",
     "output_type": "stream",
     "text": [
      "banana\n"
     ]
    },
    {
     "name": "stderr",
     "output_type": "stream",
     "text": [
      " 38%|███▊      | 3/8 [00:08<00:15,  3.00s/it]"
     ]
    },
    {
     "name": "stdout",
     "output_type": "stream",
     "text": [
      "broccoli\n"
     ]
    },
    {
     "name": "stderr",
     "output_type": "stream",
     "text": [
      " 50%|█████     | 4/8 [00:11<00:12,  3.08s/it]"
     ]
    },
    {
     "name": "stdout",
     "output_type": "stream",
     "text": [
      "onion\n"
     ]
    },
    {
     "name": "stderr",
     "output_type": "stream",
     "text": [
      " 62%|██████▎   | 5/8 [00:14<00:08,  2.84s/it]"
     ]
    },
    {
     "name": "stdout",
     "output_type": "stream",
     "text": [
      "pineapple\n"
     ]
    },
    {
     "name": "stderr",
     "output_type": "stream",
     "text": [
      " 75%|███████▌  | 6/8 [00:16<00:05,  2.62s/it]"
     ]
    },
    {
     "name": "stdout",
     "output_type": "stream",
     "text": [
      "strawberry\n"
     ]
    },
    {
     "name": "stderr",
     "output_type": "stream",
     "text": [
      " 88%|████████▊ | 7/8 [00:19<00:02,  2.72s/it]"
     ]
    },
    {
     "name": "stdout",
     "output_type": "stream",
     "text": [
      "watermelon\n"
     ]
    },
    {
     "name": "stderr",
     "output_type": "stream",
     "text": [
      "100%|██████████| 8/8 [00:22<00:00,  2.85s/it]\n"
     ]
    }
   ],
   "source": [
    "for food in tqdm(foods):\n",
    "    print(food)\n",
    "    df = pd.DataFrame(unpack_drawings(f'../data/full_binary_{food}.bin'))\n",
    "    df = df[df[\"recognized\"] == 1][[\"image\"]]\n",
    "    df.loc[:, 'preds'] = food\n",
    "    data = pd.concat([df.sample(subSample), data], ignore_index=True)"
   ]
  },
  {
   "cell_type": "code",
   "execution_count": 8,
   "metadata": {},
   "outputs": [
    {
     "data": {
      "text/html": [
       "<div>\n",
       "<style scoped>\n",
       "    .dataframe tbody tr th:only-of-type {\n",
       "        vertical-align: middle;\n",
       "    }\n",
       "\n",
       "    .dataframe tbody tr th {\n",
       "        vertical-align: top;\n",
       "    }\n",
       "\n",
       "    .dataframe thead th {\n",
       "        text-align: right;\n",
       "    }\n",
       "</style>\n",
       "<table border=\"1\" class=\"dataframe\">\n",
       "  <thead>\n",
       "    <tr style=\"text-align: right;\">\n",
       "      <th></th>\n",
       "      <th>image</th>\n",
       "      <th>preds</th>\n",
       "    </tr>\n",
       "  </thead>\n",
       "  <tbody>\n",
       "    <tr>\n",
       "      <th>0</th>\n",
       "      <td>[((16, 39, 146, 254, 252, 243, 226, 210, 182, ...</td>\n",
       "      <td>watermelon</td>\n",
       "    </tr>\n",
       "    <tr>\n",
       "      <th>1</th>\n",
       "      <td>[((1, 25, 37, 53, 73, 122, 167, 192, 214, 238,...</td>\n",
       "      <td>watermelon</td>\n",
       "    </tr>\n",
       "    <tr>\n",
       "      <th>2</th>\n",
       "      <td>[((9, 129, 129, 116, 98, 71, 52, 33, 18, 14), ...</td>\n",
       "      <td>watermelon</td>\n",
       "    </tr>\n",
       "    <tr>\n",
       "      <th>3</th>\n",
       "      <td>[((106, 70, 48, 37, 25, 11, 0, 8, 22, 38, 49, ...</td>\n",
       "      <td>watermelon</td>\n",
       "    </tr>\n",
       "    <tr>\n",
       "      <th>4</th>\n",
       "      <td>[((121, 108, 71, 30, 8, 2, 0, 1, 7, 15, 29, 53...</td>\n",
       "      <td>watermelon</td>\n",
       "    </tr>\n",
       "    <tr>\n",
       "      <th>...</th>\n",
       "      <td>...</td>\n",
       "      <td>...</td>\n",
       "    </tr>\n",
       "    <tr>\n",
       "      <th>159995</th>\n",
       "      <td>[((74, 69, 36, 8, 2, 2, 28, 51, 75, 133, 166, ...</td>\n",
       "      <td>apple</td>\n",
       "    </tr>\n",
       "    <tr>\n",
       "      <th>159996</th>\n",
       "      <td>[((0, 31, 57, 73, 104, 111, 160, 217, 226, 233...</td>\n",
       "      <td>apple</td>\n",
       "    </tr>\n",
       "    <tr>\n",
       "      <th>159997</th>\n",
       "      <td>[((164, 136, 122, 95, 49, 38, 12, 4, 0, 1, 15,...</td>\n",
       "      <td>apple</td>\n",
       "    </tr>\n",
       "    <tr>\n",
       "      <th>159998</th>\n",
       "      <td>[((70, 53, 35, 15, 4, 0, 0, 7, 17, 26, 40, 68,...</td>\n",
       "      <td>apple</td>\n",
       "    </tr>\n",
       "    <tr>\n",
       "      <th>159999</th>\n",
       "      <td>[((133, 134, 131, 118, 100, 70, 44, 35, 31, 9,...</td>\n",
       "      <td>apple</td>\n",
       "    </tr>\n",
       "  </tbody>\n",
       "</table>\n",
       "<p>160000 rows × 2 columns</p>\n",
       "</div>"
      ],
      "text/plain": [
       "                                                    image       preds\n",
       "0       [((16, 39, 146, 254, 252, 243, 226, 210, 182, ...  watermelon\n",
       "1       [((1, 25, 37, 53, 73, 122, 167, 192, 214, 238,...  watermelon\n",
       "2       [((9, 129, 129, 116, 98, 71, 52, 33, 18, 14), ...  watermelon\n",
       "3       [((106, 70, 48, 37, 25, 11, 0, 8, 22, 38, 49, ...  watermelon\n",
       "4       [((121, 108, 71, 30, 8, 2, 0, 1, 7, 15, 29, 53...  watermelon\n",
       "...                                                   ...         ...\n",
       "159995  [((74, 69, 36, 8, 2, 2, 28, 51, 75, 133, 166, ...       apple\n",
       "159996  [((0, 31, 57, 73, 104, 111, 160, 217, 226, 233...       apple\n",
       "159997  [((164, 136, 122, 95, 49, 38, 12, 4, 0, 1, 15,...       apple\n",
       "159998  [((70, 53, 35, 15, 4, 0, 0, 7, 17, 26, 40, 68,...       apple\n",
       "159999  [((133, 134, 131, 118, 100, 70, 44, 35, 31, 9,...       apple\n",
       "\n",
       "[160000 rows x 2 columns]"
      ]
     },
     "execution_count": 8,
     "metadata": {},
     "output_type": "execute_result"
    }
   ],
   "source": [
    "data"
   ]
  },
  {
   "cell_type": "markdown",
   "metadata": {
    "id": "zjIRUaT7POeA"
   },
   "source": [
    "Funcion que une los trazos a rectas, generando la imagen"
   ]
  },
  {
   "cell_type": "code",
   "execution_count": 9,
   "metadata": {
    "id": "YD4YaL7FO_if"
   },
   "outputs": [],
   "source": [
    "def hacerImagen(trazos):\n",
    "    m  = np.zeros((64,64))\n",
    "    for i in range(len(trazos)):\n",
    "        xAxis = trazos[i][0]\n",
    "        yAxis = trazos[i][1]\n",
    "        for j in range(len(xAxis) - 1):\n",
    "            rr, cc, val = line_aa(xAxis[j], yAxis[j], xAxis[j+1], yAxis[j+1])\n",
    "            rows = (rr/4).astype(int)\n",
    "            cols = (cc/4).astype(int)\n",
    "            m[rows,cols] = 1        \n",
    "    return m"
   ]
  },
  {
   "cell_type": "code",
   "execution_count": 10,
   "metadata": {},
   "outputs": [
    {
     "data": {
      "image/png": "[encoded data removed]",
      "text/plain": [
       "<Figure size 640x480 with 1 Axes>"
      ]
     },
     "metadata": {},
     "output_type": "display_data"
    }
   ],
   "source": [
    "# ejemplo de como se ve una imagen\n",
    "\n",
    "from matplotlib import pyplot as plt\n",
    "plt.imshow(hacerImagen(data.image.loc[23212]), interpolation='nearest')\n",
    "plt.show()"
   ]
  },
  {
   "cell_type": "code",
   "execution_count": 11,
   "metadata": {
    "colab": {
     "background_save": true
    },
    "id": "wLUuiaWLPL__",
    "outputId": "c40a826e-eaa9-4711-fadd-715413617d37"
   },
   "outputs": [
    {
     "name": "stderr",
     "output_type": "stream",
     "text": [
      "100%|██████████| 160000/160000 [00:00<00:00, 2720394.34it/s]\n"
     ]
    }
   ],
   "source": [
    "data.loc[:, \"image\"] = tqdm(data[\"image\"].apply(lambda x: hacerImagen(x)))"
   ]
  },
  {
   "cell_type": "code",
   "execution_count": 12,
   "metadata": {},
   "outputs": [],
   "source": [
    "data = data.sample(len(data))\n",
    "data = data.reset_index()\n",
    "del data['index']"
   ]
  },
  {
   "cell_type": "code",
   "execution_count": 13,
   "metadata": {},
   "outputs": [],
   "source": [
    "sparsedImages = [csr_matrix(im) for im in data['image']]\n",
    "labels = data.preds"
   ]
  },
  {
   "cell_type": "code",
   "execution_count": 25,
   "metadata": {},
   "outputs": [
    {
     "data": {
      "image/png": "[encoded data removed]",
      "text/plain": [
       "<Figure size 640x480 with 1 Axes>"
      ]
     },
     "metadata": {},
     "output_type": "display_data"
    },
    {
     "data": {
      "text/plain": [
       "(None, 'apple')"
      ]
     },
     "execution_count": 25,
     "metadata": {},
     "output_type": "execute_result"
    }
   ],
   "source": [
    "num = 4001\n",
    "\n",
    "from matplotlib import pyplot as plt\n",
    "plt.imshow(data.image[num], interpolation='nearest')\n",
    "plt.show(), labels[num]\n"
   ]
  },
  {
   "cell_type": "markdown",
   "metadata": {
    "id": "-S2aBPXLP8ZH"
   },
   "source": [
    "Exportacion de los datos"
   ]
  },
  {
   "cell_type": "code",
   "execution_count": 27,
   "metadata": {},
   "outputs": [],
   "source": [
    "with open('./images64x64', 'wb') as images:\n",
    "    pickle.dump(sparsedImages, images, protocol=4)\n",
    "with open('./labels64x64', 'wb') as labelsDir:\n",
    "    pickle.dump(labels, labelsDir, protocol=4)"
   ]
  }
 ],
 "metadata": {
  "colab": {
   "provenance": []
  },
  "kernelspec": {
   "display_name": "default:Python",
   "language": "python",
   "name": "conda-env-default-py"
  },
  "language_info": {
   "codemirror_mode": {
    "name": "ipython",
    "version": 3
   },
   "file_extension": ".py",
   "mimetype": "text/x-python",
   "name": "python",
   "nbconvert_exporter": "python",
   "pygments_lexer": "ipython3",
   "version": "3.9.13"
  }
 },
 "nbformat": 4,
 "nbformat_minor": 4
}
