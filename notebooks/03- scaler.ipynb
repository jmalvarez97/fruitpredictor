{
 "cells": [
  {
   "cell_type": "markdown",
   "id": "c95e2296-69ee-475e-a946-7347235c2734",
   "metadata": {},
   "source": [
    "# StandardScaler para escalar los datos\n",
    "\n",
    "Este notebook es para escalar los datos generados en el PCA y asi no desvirtuar a la red"
   ]
  },
  {
   "cell_type": "code",
   "execution_count": 1,
   "id": "deb2b5f1-ae70-477a-bb5e-a91856f308e1",
   "metadata": {},
   "outputs": [],
   "source": [
    "import pickle\n",
    "\n",
    "with open('train', 'rb') as f:\n",
    "    x_train = pickle.load(f)\n",
    "with open('test', 'rb') as f:\n",
    "    x_test = pickle.load(f)"
   ]
  },
  {
   "cell_type": "code",
   "execution_count": 2,
   "id": "b3b9d9d7-5d6e-4019-952d-4bee4d151b17",
   "metadata": {},
   "outputs": [],
   "source": [
    "from sklearn.preprocessing import StandardScaler"
   ]
  },
  {
   "cell_type": "code",
   "execution_count": 3,
   "id": "e0d98e26-c05f-4ca7-82d5-897cbbb77bcb",
   "metadata": {},
   "outputs": [],
   "source": [
    "sScaler = StandardScaler()"
   ]
  },
  {
   "cell_type": "code",
   "execution_count": 4,
   "id": "555d6623-e641-4f62-98df-c6e901665a8d",
   "metadata": {},
   "outputs": [],
   "source": [
    "x_train = sScaler.fit_transform(x_train)\n",
    "x_test = sScaler.transform(x_test)"
   ]
  },
  {
   "cell_type": "code",
   "execution_count": 5,
   "id": "c13bc155-8c34-4a2d-b595-444855b46bf6",
   "metadata": {},
   "outputs": [],
   "source": [
    "with open('x_train_scaled', 'wb') as f:\n",
    "    pickle.dump(x_train,f)\n",
    "with open('x_test_scaled', 'wb') as f:\n",
    "    pickle.dump(x_test,f)"
   ]
  },
  {
   "cell_type": "code",
   "execution_count": 6,
   "id": "e4ef9ecd-5be8-4098-9617-3d232f26b5d8",
   "metadata": {},
   "outputs": [],
   "source": [
    "with open('sScaler', 'wb') as f:\n",
    "    pickle.dump(sScaler,f)"
   ]
  }
 ],
 "metadata": {
  "kernelspec": {
   "display_name": "default:Python",
   "language": "python",
   "name": "conda-env-default-py"
  },
  "language_info": {
   "codemirror_mode": {
    "name": "ipython",
    "version": 3
   },
   "file_extension": ".py",
   "mimetype": "text/x-python",
   "name": "python",
   "nbconvert_exporter": "python",
   "pygments_lexer": "ipython3",
   "version": "3.9.13"
  }
 },
 "nbformat": 4,
 "nbformat_minor": 5
}
