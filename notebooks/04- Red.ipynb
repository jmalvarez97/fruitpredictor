{
 "cells": [
  {
   "cell_type": "markdown",
   "id": "4d1a1433-39e0-4532-9e25-05bb98511469",
   "metadata": {},
   "source": [
    "# Entrenamiento de la red neuronal\n",
    "\n",
    "En esta parte ya se entrena a la red con las imagenes reducidas"
   ]
  },
  {
   "cell_type": "code",
   "execution_count": 1,
   "id": "71e916ec-7f5a-442c-a222-1e737e7678a8",
   "metadata": {},
   "outputs": [
    {
     "name": "stderr",
     "output_type": "stream",
     "text": [
      "2023-03-19 02:33:52.750915: I tensorflow/core/platform/cpu_feature_guard.cc:193] This TensorFlow binary is optimized with oneAPI Deep Neural Network Library (oneDNN) to use the following CPU instructions in performance-critical operations:  AVX2 AVX512F FMA\n",
      "To enable them in other operations, rebuild TensorFlow with the appropriate compiler flags.\n",
      "2023-03-19 02:33:52.923334: W tensorflow/compiler/xla/stream_executor/platform/default/dso_loader.cc:64] Could not load dynamic library 'libcudart.so.11.0'; dlerror: libcudart.so.11.0: cannot open shared object file: No such file or directory\n",
      "2023-03-19 02:33:52.923358: I tensorflow/compiler/xla/stream_executor/cuda/cudart_stub.cc:29] Ignore above cudart dlerror if you do not have a GPU set up on your machine.\n",
      "2023-03-19 02:33:53.744544: W tensorflow/compiler/xla/stream_executor/platform/default/dso_loader.cc:64] Could not load dynamic library 'libnvinfer.so.7'; dlerror: libnvinfer.so.7: cannot open shared object file: No such file or directory\n",
      "2023-03-19 02:33:53.744674: W tensorflow/compiler/xla/stream_executor/platform/default/dso_loader.cc:64] Could not load dynamic library 'libnvinfer_plugin.so.7'; dlerror: libnvinfer_plugin.so.7: cannot open shared object file: No such file or directory\n",
      "2023-03-19 02:33:53.744684: W tensorflow/compiler/tf2tensorrt/utils/py_utils.cc:38] TF-TRT Warning: Cannot dlopen some TensorRT libraries. If you would like to use Nvidia GPU with TensorRT, please make sure the missing libraries mentioned above are installed properly.\n"
     ]
    }
   ],
   "source": [
    "import pandas as pd\n",
    "import numpy as np\n",
    "from sklearn.metrics import classification_report, roc_auc_score\n",
    "import pickle\n",
    "import tensorflow as tf\n",
    "import matplotlib.pyplot as plt"
   ]
  },
  {
   "cell_type": "code",
   "execution_count": 2,
   "id": "605a4b62-dcaa-41f0-8b32-8c8fa90535b3",
   "metadata": {},
   "outputs": [],
   "source": [
    "with open('x_train_scaled', 'rb') as f:\n",
    "    x_train_scaled = pickle.load(f)\n",
    "with open('x_test_scaled', 'rb') as f:\n",
    "    x_test_scaled = pickle.load(f)\n",
    "with open('labels86x86', 'rb') as f:\n",
    "    labels = pickle.load(f)"
   ]
  },
  {
   "cell_type": "code",
   "execution_count": 3,
   "id": "554f65e9-eb6e-4590-9d0a-2ece9f006bfa",
   "metadata": {},
   "outputs": [],
   "source": [
    "y_train = labels.loc[:140000-1]\n",
    "y_test = labels.loc[140000:]"
   ]
  },
  {
   "cell_type": "code",
   "execution_count": 4,
   "id": "8acf4d6b-4e9c-4798-990d-9450dc4aff47",
   "metadata": {},
   "outputs": [],
   "source": [
    "from sklearn import preprocessing\n",
    "le = preprocessing.LabelEncoder()\n",
    "le.fit(y_train)\n",
    "y_train_num = le.transform(y_train)\n",
    "y_test_num = le.transform(y_test)"
   ]
  },
  {
   "cell_type": "code",
   "execution_count": 5,
   "id": "815c87db-7de3-49f8-a01d-622a942c69df",
   "metadata": {},
   "outputs": [
    {
     "data": {
      "text/plain": [
       "array(['apple', 'asparagus', 'banana', 'broccoli', 'onion', 'pineapple',\n",
       "       'strawberry', 'watermelon'], dtype=object)"
      ]
     },
     "execution_count": 5,
     "metadata": {},
     "output_type": "execute_result"
    }
   ],
   "source": [
    "le.classes_"
   ]
  },
  {
   "cell_type": "code",
   "execution_count": 6,
   "id": "f2cb8157-c12d-443e-93b3-5a47ccf75847",
   "metadata": {},
   "outputs": [
    {
     "name": "stderr",
     "output_type": "stream",
     "text": [
      "2023-03-19 02:33:57.977331: W tensorflow/compiler/xla/stream_executor/platform/default/dso_loader.cc:64] Could not load dynamic library 'libcuda.so.1'; dlerror: libcuda.so.1: cannot open shared object file: No such file or directory\n",
      "2023-03-19 02:33:57.977364: W tensorflow/compiler/xla/stream_executor/cuda/cuda_driver.cc:265] failed call to cuInit: UNKNOWN ERROR (303)\n",
      "2023-03-19 02:33:57.977388: I tensorflow/compiler/xla/stream_executor/cuda/cuda_diagnostics.cc:156] kernel driver does not appear to be running on this host (default): /proc/driver/nvidia/version does not exist\n",
      "2023-03-19 02:33:57.977637: I tensorflow/core/platform/cpu_feature_guard.cc:193] This TensorFlow binary is optimized with oneAPI Deep Neural Network Library (oneDNN) to use the following CPU instructions in performance-critical operations:  AVX2 AVX512F FMA\n",
      "To enable them in other operations, rebuild TensorFlow with the appropriate compiler flags.\n"
     ]
    }
   ],
   "source": [
    "model = tf.keras.models.Sequential([\n",
    "        tf.keras.layers.Flatten(input_shape=(200,)),\n",
    "        tf.keras.layers.Dense(256, activation='relu'),\n",
    "        tf.keras.layers.Dropout(0.3),\n",
    "        tf.keras.layers.Dense(512, activation='relu'),\n",
    "        tf.keras.layers.Dense(512, activation='relu'),\n",
    "        tf.keras.layers.Dropout(0.2),\n",
    "        tf.keras.layers.Dense(256, activation='relu'),\n",
    "        tf.keras.layers.Dropout(0.2),\n",
    "        tf.keras.layers.Dense(100, activation='relu'),\n",
    "        tf.keras.layers.Dense(8, activation='softmax')\n",
    "])"
   ]
  },
  {
   "cell_type": "code",
   "execution_count": 7,
   "id": "e58038fb-1ac2-4201-9598-5aa56c552030",
   "metadata": {},
   "outputs": [],
   "source": [
    "model.compile(loss='sparse_categorical_crossentropy',metrics=['accuracy'], optimizer=tf.keras.optimizers.Adam(0.001))"
   ]
  },
  {
   "cell_type": "code",
   "execution_count": 8,
   "id": "fef0b564-0ecd-47f0-9bc9-0bcb2e440bdd",
   "metadata": {},
   "outputs": [
    {
     "name": "stdout",
     "output_type": "stream",
     "text": [
      "Model: \"sequential\"\n",
      "_________________________________________________________________\n",
      " Layer (type)                Output Shape              Param #   \n",
      "=================================================================\n",
      " flatten (Flatten)           (None, 200)               0         \n",
      "                                                                 \n",
      " dense (Dense)               (None, 256)               51456     \n",
      "                                                                 \n",
      " dropout (Dropout)           (None, 256)               0         \n",
      "                                                                 \n",
      " dense_1 (Dense)             (None, 512)               131584    \n",
      "                                                                 \n",
      " dense_2 (Dense)             (None, 512)               262656    \n",
      "                                                                 \n",
      " dropout_1 (Dropout)         (None, 512)               0         \n",
      "                                                                 \n",
      " dense_3 (Dense)             (None, 256)               131328    \n",
      "                                                                 \n",
      " dropout_2 (Dropout)         (None, 256)               0         \n",
      "                                                                 \n",
      " dense_4 (Dense)             (None, 100)               25700     \n",
      "                                                                 \n",
      " dense_5 (Dense)             (None, 8)                 808       \n",
      "                                                                 \n",
      "=================================================================\n",
      "Total params: 603,532\n",
      "Trainable params: 603,532\n",
      "Non-trainable params: 0\n",
      "_________________________________________________________________\n"
     ]
    }
   ],
   "source": [
    "model.summary()"
   ]
  },
  {
   "cell_type": "code",
   "execution_count": 9,
   "id": "600cd4d9-4542-47d5-b408-28448d3fab6e",
   "metadata": {},
   "outputs": [],
   "source": [
    "callback = tf.keras.callbacks.EarlyStopping(monitor='val_loss', patience=3)"
   ]
  },
  {
   "cell_type": "code",
   "execution_count": 10,
   "id": "a09106c4-9442-475c-8622-f3c71819d805",
   "metadata": {},
   "outputs": [
    {
     "name": "stdout",
     "output_type": "stream",
     "text": [
      "Epoch 1/100\n",
      "3938/3938 [==============================] - 34s 8ms/step - loss: 0.7466 - accuracy: 0.7448 - val_loss: 0.4755 - val_accuracy: 0.8388\n",
      "Epoch 2/100\n",
      "3938/3938 [==============================] - 32s 8ms/step - loss: 0.5041 - accuracy: 0.8299 - val_loss: 0.4449 - val_accuracy: 0.8472\n",
      "Epoch 3/100\n",
      "3938/3938 [==============================] - 30s 8ms/step - loss: 0.4502 - accuracy: 0.8495 - val_loss: 0.3852 - val_accuracy: 0.8671\n",
      "Epoch 4/100\n",
      "3938/3938 [==============================] - 30s 8ms/step - loss: 0.4155 - accuracy: 0.8611 - val_loss: 0.3801 - val_accuracy: 0.8711\n",
      "Epoch 5/100\n",
      "3938/3938 [==============================] - 30s 8ms/step - loss: 0.3908 - accuracy: 0.8691 - val_loss: 0.3646 - val_accuracy: 0.8779\n",
      "Epoch 6/100\n",
      "3938/3938 [==============================] - 32s 8ms/step - loss: 0.3765 - accuracy: 0.8743 - val_loss: 0.3563 - val_accuracy: 0.8796\n",
      "Epoch 7/100\n",
      "3938/3938 [==============================] - 30s 8ms/step - loss: 0.3642 - accuracy: 0.8774 - val_loss: 0.3586 - val_accuracy: 0.8776\n",
      "Epoch 8/100\n",
      "3938/3938 [==============================] - 31s 8ms/step - loss: 0.3504 - accuracy: 0.8827 - val_loss: 0.3593 - val_accuracy: 0.8772\n",
      "Epoch 9/100\n",
      "3938/3938 [==============================] - 31s 8ms/step - loss: 0.3405 - accuracy: 0.8852 - val_loss: 0.3478 - val_accuracy: 0.8849\n",
      "Epoch 10/100\n",
      "3938/3938 [==============================] - 30s 8ms/step - loss: 0.3343 - accuracy: 0.8883 - val_loss: 0.3482 - val_accuracy: 0.8861\n",
      "Epoch 11/100\n",
      "3938/3938 [==============================] - 30s 8ms/step - loss: 0.3275 - accuracy: 0.8904 - val_loss: 0.3501 - val_accuracy: 0.8846\n",
      "Epoch 12/100\n",
      "3938/3938 [==============================] - 30s 8ms/step - loss: 0.3207 - accuracy: 0.8928 - val_loss: 0.3387 - val_accuracy: 0.8870\n",
      "Epoch 13/100\n",
      "3938/3938 [==============================] - 30s 8ms/step - loss: 0.3152 - accuracy: 0.8941 - val_loss: 0.3455 - val_accuracy: 0.8859\n",
      "Epoch 14/100\n",
      "3938/3938 [==============================] - 30s 8ms/step - loss: 0.3125 - accuracy: 0.8964 - val_loss: 0.3360 - val_accuracy: 0.8886\n",
      "Epoch 15/100\n",
      "3938/3938 [==============================] - 29s 7ms/step - loss: 0.3040 - accuracy: 0.8975 - val_loss: 0.3597 - val_accuracy: 0.8819\n",
      "Epoch 16/100\n",
      "3938/3938 [==============================] - 30s 8ms/step - loss: 0.3003 - accuracy: 0.8987 - val_loss: 0.3343 - val_accuracy: 0.8902\n",
      "Epoch 17/100\n",
      "3938/3938 [==============================] - 30s 7ms/step - loss: 0.2968 - accuracy: 0.9001 - val_loss: 0.3419 - val_accuracy: 0.8886\n",
      "Epoch 18/100\n",
      "3938/3938 [==============================] - 30s 8ms/step - loss: 0.2951 - accuracy: 0.9009 - val_loss: 0.3353 - val_accuracy: 0.8889\n",
      "Epoch 19/100\n",
      "3938/3938 [==============================] - 30s 8ms/step - loss: 0.2894 - accuracy: 0.9031 - val_loss: 0.3419 - val_accuracy: 0.8888\n"
     ]
    }
   ],
   "source": [
    "hst = model.fit(x_train_scaled, y_train_num, validation_split=0.1, epochs=100, callbacks=[callback])"
   ]
  },
  {
   "cell_type": "code",
   "execution_count": 11,
   "id": "67b4422e-b8c1-40b8-b188-c67460be2361",
   "metadata": {},
   "outputs": [
    {
     "name": "stdout",
     "output_type": "stream",
     "text": [
      "625/625 [==============================] - 1s 2ms/step\n"
     ]
    }
   ],
   "source": [
    "preds = model.predict(x_test_scaled)"
   ]
  },
  {
   "cell_type": "code",
   "execution_count": 12,
   "id": "093412d3-0895-4cc7-86ee-993c37666285",
   "metadata": {},
   "outputs": [
    {
     "data": {
      "text/plain": [
       "<matplotlib.legend.Legend at 0x7fb0bcdb3760>"
      ]
     },
     "execution_count": 12,
     "metadata": {},
     "output_type": "execute_result"
    },
    {
     "data": {
      "image/png": "[encoded data removed]",
      "text/plain": [
       "<Figure size 640x480 with 1 Axes>"
      ]
     },
     "metadata": {},
     "output_type": "display_data"
    }
   ],
   "source": [
    "plt.plot(hst.history[\"accuracy\"], label=\"train_accuracy\")\n",
    "plt.plot(hst.history[\"val_accuracy\"], label=\"valid_accuracy\")\n",
    "plt.legend()"
   ]
  },
  {
   "cell_type": "code",
   "execution_count": 13,
   "id": "1ef88d37-cbe3-4712-a0f7-0e3345661de5",
   "metadata": {},
   "outputs": [],
   "source": [
    "foods = le.classes_\n",
    "\n",
    "def labeled(preds):\n",
    "    dic = {}\n",
    "    for p in preds:\n",
    "        for i in range(8):\n",
    "            dic[foods[i]] = p[i]\n",
    "    return dic\n"
   ]
  },
  {
   "cell_type": "code",
   "execution_count": 14,
   "id": "550f61d3-5de2-4916-9e0f-4c5ce6a1aa2b",
   "metadata": {},
   "outputs": [
    {
     "name": "stderr",
     "output_type": "stream",
     "text": [
      "WARNING:absl:Found untraced functions such as _update_step_xla while saving (showing 1 of 1). These functions will not be directly callable after loading.\n"
     ]
    },
    {
     "name": "stdout",
     "output_type": "stream",
     "text": [
      "INFO:tensorflow:Assets written to: neuralNet/assets\n"
     ]
    },
    {
     "name": "stderr",
     "output_type": "stream",
     "text": [
      "INFO:tensorflow:Assets written to: neuralNet/assets\n"
     ]
    }
   ],
   "source": [
    "model.save(\"neuralNet\")"
   ]
  },
  {
   "cell_type": "code",
   "execution_count": 15,
   "id": "9a47638e-cdda-4760-af91-10f48dbc498d",
   "metadata": {},
   "outputs": [
    {
     "data": {
      "text/plain": [
       "({'apple': 3.3427077e-19,\n",
       "  'asparagus': 9.758289e-17,\n",
       "  'banana': 2.2797222e-17,\n",
       "  'broccoli': 0.99999994,\n",
       "  'onion': 1.5168084e-12,\n",
       "  'pineapple': 2.5300358e-16,\n",
       "  'strawberry': 3.586717e-14,\n",
       "  'watermelon': 2.4209064e-11},\n",
       " 'broccoli')"
      ]
     },
     "execution_count": 15,
     "metadata": {},
     "output_type": "execute_result"
    }
   ],
   "source": [
    "labeled([preds[3000]]), y_test[143000]"
   ]
  }
 ],
 "metadata": {
  "kernelspec": {
   "display_name": "default:Python",
   "language": "python",
   "name": "conda-env-default-py"
  },
  "language_info": {
   "codemirror_mode": {
    "name": "ipython",
    "version": 3
   },
   "file_extension": ".py",
   "mimetype": "text/x-python",
   "name": "python",
   "nbconvert_exporter": "python",
   "pygments_lexer": "ipython3",
   "version": "3.9.13"
  }
 },
 "nbformat": 4,
 "nbformat_minor": 5
}
